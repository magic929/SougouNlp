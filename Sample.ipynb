{
 "cells": [
  {
   "cell_type": "code",
   "execution_count": 15,
   "metadata": {},
   "outputs": [],
   "source": [
    "import numpy as np"
   ]
  },
  {
   "cell_type": "code",
   "execution_count": 1,
   "metadata": {},
   "outputs": [],
   "source": [
    "import fasttext"
   ]
  },
  {
   "cell_type": "code",
   "execution_count": 12,
   "metadata": {},
   "outputs": [],
   "source": [
    "def loadWordEmbedding(model):\n",
    "    model = fasttext.load_model(model)\n",
    "    vocab = ['unk']\n",
    "    embd = [[0] * 100]\n",
    "    for word in model.words:\n",
    "        vocab.append(word)\n",
    "        embd.append(model[word])\n",
    "    print(\"loaded word2vec\")\n",
    "    return vocab, embd"
   ]
  },
  {
   "cell_type": "code",
   "execution_count": null,
   "metadata": {},
   "outputs": [],
   "source": [
    "vocab, embd = loadWordEmbedding('model/fasttext.model.bin')\n",
    "vocab_size = len(vocab)\n",
    "embedding_dim = len(embd[0])\n",
    "embedding = np.asarray(embd)"
   ]
  },
  {
   "cell_type": "markdown",
   "metadata": {},
   "source": [
    " **tensorflow load the trained word embedding (fasttext)**<br >\n",
    " return the vocab and embedding<br>\n",
    " the vocab:\n",
    " - 'unk',\n",
    " - '处会',\n",
    " - '倍觉',\n",
    " - '螳螂捕蝉',\n",
    " - '烟标',\n",
    " - '见证人',\n",
    " - '玩到',\n",
    " - '刑满释放',\n",
    " \n",
    "the embedding:\n",
    "- [[ 0.        ,  0.        ,  0.        , ...,  0.        ,\n",
    "     0.        ,  0.        ],\n",
    "- [ 0.20675033,  0.13941619, -0.02178967, ...,  0.08394553,\n",
    "    -0.57525939, -0.17493315],\n",
    "- [ 0.02645796, -0.16807704, -0.33025488, ...,  0.18632847,\n",
    "    0.20377228,  0.1036511 ],\n",
    "\n",
    "note: add the unk is that the word not in trained word embedding. and the vector is 0"
   ]
  },
  {
   "cell_type": "code",
   "execution_count": null,
   "metadata": {},
   "outputs": [],
   "source": []
  }
 ],
 "metadata": {
  "kernelspec": {
   "display_name": "Python 3",
   "language": "python",
   "name": "python3"
  },
  "language_info": {
   "codemirror_mode": {
    "name": "ipython",
    "version": 3
   },
   "file_extension": ".py",
   "mimetype": "text/x-python",
   "name": "python",
   "nbconvert_exporter": "python",
   "pygments_lexer": "ipython3",
   "version": "3.5.2"
  }
 },
 "nbformat": 4,
 "nbformat_minor": 2
}
